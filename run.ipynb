{
 "cells": [
  {
   "cell_type": "code",
   "execution_count": 1,
   "metadata": {},
   "outputs": [],
   "source": [
    "%load_ext autoreload\n",
    "%autoreload 2\n",
    "from wristband.users.users_utils import UsersService\n",
    "svc = UsersService()\n",
    "svc.create_import_users_csv()"
   ]
  },
  {
   "cell_type": "code",
   "execution_count": 3,
   "metadata": {},
   "outputs": [
    {
     "data": {
      "text/plain": [
       "[{'email': 'fddiferd@gmail.com',\n",
       "  'status_code': {'id': 'uf3xgw4pbfd75icfujxsrgpxku',\n",
       "   'tenantId': 'gesqmthaqngxjipwc7luxhrgje',\n",
       "   'applicationId': '65ozodiubbcyba3mbdgupupz6y',\n",
       "   'identityProviderName': 'wristband',\n",
       "   'identityProviderType': 'WRISTBAND',\n",
       "   'username': None,\n",
       "   'hasPassword': False,\n",
       "   'email': 'fddiferd@gmail.com',\n",
       "   'emailVerified': False,\n",
       "   'phoneNumber': None,\n",
       "   'externalId': None,\n",
       "   'fullName': 'doanto',\n",
       "   'givenName': None,\n",
       "   'familyName': None,\n",
       "   'middleName': None,\n",
       "   'honorificPrefix': None,\n",
       "   'honorificSuffix': None,\n",
       "   'nickname': None,\n",
       "   'displayName': None,\n",
       "   'gender': None,\n",
       "   'pictureUrl': None,\n",
       "   'birthdate': None,\n",
       "   'preferredLanguage': None,\n",
       "   'locale': None,\n",
       "   'timeZone': None,\n",
       "   'restrictedMetadata': {},\n",
       "   'publicMetadata': {},\n",
       "   'status': 'PROVISIONED',\n",
       "   'metadata': {'creationTime': '2024-12-23T20:27:45.611Z',\n",
       "    'lastModifiedTime': '2024-12-23T20:27:45.611Z',\n",
       "    'activationTime': None,\n",
       "    'deactivationTime': None,\n",
       "    'version': '0.0'}}}]"
      ]
     },
     "execution_count": 3,
     "metadata": {},
     "output_type": "execute_result"
    }
   ],
   "source": [
    "from wristband.users.upload_users_csv import upload_users_csv\n",
    "upload_users_csv()"
   ]
  }
 ],
 "metadata": {
  "kernelspec": {
   "display_name": ".venv",
   "language": "python",
   "name": "python3"
  },
  "language_info": {
   "codemirror_mode": {
    "name": "ipython",
    "version": 3
   },
   "file_extension": ".py",
   "mimetype": "text/x-python",
   "name": "python",
   "nbconvert_exporter": "python",
   "pygments_lexer": "ipython3",
   "version": "3.11.0"
  }
 },
 "nbformat": 4,
 "nbformat_minor": 2
}
